{
 "cells": [
  {
   "cell_type": "code",
   "execution_count": null,
   "metadata": {},
   "outputs": [],
   "source": [
    "#!/usr/bin/env python3\n",
    "\"\"\"danielsinkin97@gmail.com\"\"\"\n",
    "\n",
    "import matplotlib.pyplot as plt\n",
    "import numpy as np\n",
    "\n",
    "from computer_vision.util.images import load_image_as_array, rgb_to_grayscale\n",
    "from computer_vision.src.transformation import inverse_warp\n",
    "\n",
    "from ipywidgets import interact, FloatSlider\n",
    "\n",
    "image: np.ndarray = rgb_to_grayscale(\n",
    "    load_image_as_array(\n",
    "        \"/Users/danielsinkin/GitHub_private/computer-vision/data/hummingbird.png\"\n",
    "    )\n",
    ")\n",
    "\n",
    "canvas_size: tuple[int, int] = (image.shape[0] * 2, image.shape[1] * 2)\n",
    "canvas: np.ndarray = np.zeros(canvas_size, dtype=np.uint8)\n",
    "\n",
    "offset_y = (canvas_size[0] - image.shape[0]) // 2\n",
    "offset_x = (canvas_size[1] - image.shape[1]) // 2\n",
    "\n",
    "canvas[offset_y : offset_y + image.shape[0], offset_x : offset_x + image.shape[1]] = (\n",
    "    image\n",
    ")\n",
    "\n",
    "\n",
    "@interact(\n",
    "    dx=FloatSlider(min=-100, max=100, step=1, value=0),\n",
    "    dy=FloatSlider(min=-100, max=100, step=1, value=0),\n",
    "    theta=FloatSlider(min=-180, max=180, step=1, value=0),\n",
    ")\n",
    "def show_affine_warp(dx=0.0, dy=0.0, theta=0.0) -> None:\n",
    "    angle_rad = np.radians(theta)\n",
    "    cos_a = np.cos(angle_rad)\n",
    "    sin_a = np.sin(angle_rad)\n",
    "\n",
    "    center_x = canvas.shape[1] / 2\n",
    "    center_y = canvas.shape[0] / 2\n",
    "\n",
    "    T = np.array(\n",
    "        [\n",
    "            [cos_a, -sin_a, dx + center_x * (1 - cos_a) + center_y * sin_a],\n",
    "            [sin_a, cos_a, dy + center_y * (1 - cos_a) - center_x * sin_a],\n",
    "        ],\n",
    "        dtype=np.float32,\n",
    "    )\n",
    "\n",
    "    warped = inverse_warp(canvas, T, canvas.shape)\n",
    "\n",
    "    plt.imshow(warped, cmap=\"gray\")\n",
    "    plt.title(f\"dx={dx:.0f}, dy={dy:.0f}, θ={theta:.0f}°\")\n",
    "    plt.axis(\"off\")\n",
    "    plt.show()"
   ]
  },
  {
   "cell_type": "code",
   "execution_count": null,
   "metadata": {},
   "outputs": [],
   "source": []
  }
 ],
 "metadata": {
  "kernelspec": {
   "display_name": ".venv",
   "language": "python",
   "name": "python3"
  },
  "language_info": {
   "codemirror_mode": {
    "name": "ipython",
    "version": 3
   },
   "file_extension": ".py",
   "mimetype": "text/x-python",
   "name": "python",
   "nbconvert_exporter": "python",
   "pygments_lexer": "ipython3",
   "version": "3.13.3"
  }
 },
 "nbformat": 4,
 "nbformat_minor": 2
}
